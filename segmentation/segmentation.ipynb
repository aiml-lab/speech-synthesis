{
 "cells": [
  {
   "cell_type": "code",
   "execution_count": null,
   "metadata": {},
   "outputs": [],
   "source": [
    "import torch\n",
    "import torch.nn as nn\n",
    "import torch.nn.functional as F"
   ]
  },
  {
   "cell_type": "code",
   "execution_count": null,
   "metadata": {},
   "outputs": [],
   "source": [
    "batch_size = 25\n",
    "num_features = 13\n",
    "speak_feats = 16 #features in speaker embedding\n",
    "num_conv_filters = 64\n",
    "num_conv_layers = 4 #layers in convolutional network excluding zeroth layer\n",
    "num_rnn_layers = 3\n",
    "dropout = 0.85\n",
    "num_hidden_gru = 1024\n",
    "beam_width= 20\n",
    "\n",
    "#Phonemes\n",
    "silence = \"SIL\"\n",
    "\n",
    "phonemes = [silence,'AA','AE','AH','AO','AW','AY','B','CH','D','DH','EH',\n",
    "            'ER','EY','F','G','HH','IH','IY','JH','K','L','M','N','NG','OW','OY',\n",
    "            'P','R','S','SH','T','TH','UH','UW','V','W','Y','Z','ZH']\n",
    "phoneme_dict = dict()\n",
    "for i in range(len(phonemes)):\n",
    "    phoneme_dict[phonemes[i]] = i\n",
    "\n",
    "\n",
    "num_phonemes = len(phonemes) \n",
    "num_labels = num_phonemes**2\n",
    "ctc_classes = num_labels + 1 "
   ]
  }
 ],
 "metadata": {
  "kernelspec": {
   "display_name": "Python 3",
   "language": "python",
   "name": "python3"
  },
  "language_info": {
   "codemirror_mode": {
    "name": "ipython",
    "version": 3
   },
   "file_extension": ".py",
   "mimetype": "text/x-python",
   "name": "python",
   "nbconvert_exporter": "python",
   "pygments_lexer": "ipython3",
   "version": "3.7.0"
  }
 },
 "nbformat": 4,
 "nbformat_minor": 2
}
